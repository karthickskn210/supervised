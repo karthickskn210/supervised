{
 "cells": [
  {
   "cell_type": "code",
   "execution_count": 1,
   "metadata": {},
   "outputs": [],
   "source": [
    "# Import libraries\n",
    "\n",
    "from __future__ import print_function\n",
    "\n",
    "import numpy as np\n",
    "\n",
    "import sklearn\n",
    "\n",
    "import pandas as pd\n",
    "\n",
    "import tensorflow as tf\n",
    "\n",
    "from tensorflow.contrib.tensor_forest.python import tensor_forest\n",
    "\n",
    "from tensorflow.python.ops import resources\n",
    "\n",
    "\n",
    "# Ignore all GPUs, tf random forest does not benefit from it.\n",
    "\n",
    "import os\n",
    "\n",
    "os.environ[\"CUDA_VISIBLE_DEVICES\"] = \"\"\n",
    "\n"
   ]
  },
  {
   "cell_type": "code",
   "execution_count": 2,
   "metadata": {},
   "outputs": [
    {
     "data": {
      "text/html": [
       "<div>\n",
       "<style scoped>\n",
       "    .dataframe tbody tr th:only-of-type {\n",
       "        vertical-align: middle;\n",
       "    }\n",
       "\n",
       "    .dataframe tbody tr th {\n",
       "        vertical-align: top;\n",
       "    }\n",
       "\n",
       "    .dataframe thead th {\n",
       "        text-align: right;\n",
       "    }\n",
       "</style>\n",
       "<table border=\"1\" class=\"dataframe\">\n",
       "  <thead>\n",
       "    <tr style=\"text-align: right;\">\n",
       "      <th></th>\n",
       "      <th>TOTAL_SECONDS</th>\n",
       "      <th>SNIPPETS</th>\n",
       "      <th>THROUGH_PUT_ROWS</th>\n",
       "      <th>THROUGH_PUT_SIZE</th>\n",
       "      <th>Cluster</th>\n",
       "    </tr>\n",
       "  </thead>\n",
       "  <tbody>\n",
       "    <tr>\n",
       "      <th>0</th>\n",
       "      <td>0</td>\n",
       "      <td>1</td>\n",
       "      <td>0</td>\n",
       "      <td>0</td>\n",
       "      <td>1</td>\n",
       "    </tr>\n",
       "    <tr>\n",
       "      <th>1</th>\n",
       "      <td>4</td>\n",
       "      <td>4</td>\n",
       "      <td>0</td>\n",
       "      <td>0</td>\n",
       "      <td>1</td>\n",
       "    </tr>\n",
       "    <tr>\n",
       "      <th>2</th>\n",
       "      <td>0</td>\n",
       "      <td>1</td>\n",
       "      <td>0</td>\n",
       "      <td>0</td>\n",
       "      <td>1</td>\n",
       "    </tr>\n",
       "    <tr>\n",
       "      <th>3</th>\n",
       "      <td>0</td>\n",
       "      <td>1</td>\n",
       "      <td>0</td>\n",
       "      <td>0</td>\n",
       "      <td>1</td>\n",
       "    </tr>\n",
       "    <tr>\n",
       "      <th>4</th>\n",
       "      <td>0</td>\n",
       "      <td>1</td>\n",
       "      <td>0</td>\n",
       "      <td>0</td>\n",
       "      <td>1</td>\n",
       "    </tr>\n",
       "  </tbody>\n",
       "</table>\n",
       "</div>"
      ],
      "text/plain": [
       "   TOTAL_SECONDS  SNIPPETS  THROUGH_PUT_ROWS  THROUGH_PUT_SIZE  Cluster\n",
       "0              0         1                 0                 0        1\n",
       "1              4         4                 0                 0        1\n",
       "2              0         1                 0                 0        1\n",
       "3              0         1                 0                 0        1\n",
       "4              0         1                 0                 0        1"
      ]
     },
     "execution_count": 2,
     "metadata": {},
     "output_type": "execute_result"
    }
   ],
   "source": [
    "# Import data\n",
    "\n",
    "data = pd.read_csv('data1.csv')\n",
    "data.head()"
   ]
  },
  {
   "cell_type": "code",
   "execution_count": 3,
   "metadata": {},
   "outputs": [],
   "source": [
    "\n",
    "#Extract feature and target np arrays (inputs for placeholders)\n",
    "\n",
    "input_x = data.iloc[:, 0:-1].values\n",
    "\n",
    "input_y = data.iloc[:, -1].values\n",
    "\n",
    "#input_x\n",
    "#input_y"
   ]
  },
  {
   "cell_type": "code",
   "execution_count": 4,
   "metadata": {},
   "outputs": [],
   "source": [
    "# Splitting the dataset into the Training set and Test set\n",
    "\n",
    "from sklearn.model_selection import train_test_split\n",
    "\n",
    "X_train, X_test, y_train, y_test = train_test_split(input_x, input_y, test_size = 0.25, random_state = 42)"
   ]
  },
  {
   "cell_type": "code",
   "execution_count": 5,
   "metadata": {},
   "outputs": [
    {
     "data": {
      "text/plain": [
       "array([[ 0,  1,  0,  0,  1],\n",
       "       [ 4,  4,  0,  0,  1],\n",
       "       [ 0,  1,  0,  0,  1],\n",
       "       ...,\n",
       "       [ 1,  2,  1, 24,  1],\n",
       "       [ 0,  2,  0,  0,  1],\n",
       "       [ 0,  1,  0,  0,  1]])"
      ]
     },
     "execution_count": 5,
     "metadata": {},
     "output_type": "execute_result"
    }
   ],
   "source": [
    "data1 = data.iloc[:,:].values\n",
    "\n",
    "data1"
   ]
  },
  {
   "cell_type": "code",
   "execution_count": 6,
   "metadata": {},
   "outputs": [],
   "source": [
    "# Parameters\n",
    "num_steps = 500 # Total steps to train\n",
    "num_classes = 6 # The 6 digits\n",
    "num_features = 4 # features\n",
    "num_trees = 12\n",
    "max_nodes = 10"
   ]
  },
  {
   "cell_type": "code",
   "execution_count": 7,
   "metadata": {},
   "outputs": [],
   "source": [
    "# Input and Target data\n",
    "X = tf.placeholder(tf.float32, shape=[None, num_features])\n",
    "# For random forest, labels must be integers (the class id)\n",
    "Y = tf.placeholder(tf.int32, shape=[None])"
   ]
  },
  {
   "cell_type": "code",
   "execution_count": 8,
   "metadata": {},
   "outputs": [],
   "source": [
    "# Random Forest Parameters\n",
    "hparams = tensor_forest.ForestHParams(num_classes=num_classes,\n",
    "                                      num_features=num_features,\n",
    "                                      num_trees=num_trees,\n",
    "                                      max_nodes=max_nodes).fill()\n"
   ]
  },
  {
   "cell_type": "code",
   "execution_count": 9,
   "metadata": {},
   "outputs": [
    {
     "name": "stdout",
     "output_type": "stream",
     "text": [
      "INFO:tensorflow:Constructing forest with params = \n",
      "INFO:tensorflow:{'num_classes': 6, 'use_running_stats_method': False, 'dominate_fraction': 0.99, 'split_type': 0, 'split_finish_name': 'basic', 'inference_tree_paths': False, 'num_splits_to_consider': 10, 'valid_leaf_threshold': 1, 'early_finish_check_every_samples': 0, 'feature_bagging_fraction': 1.0, 'regression': False, 'base_random_seed': 0, 'num_outputs': 1, 'prune_every_samples': 0, 'checkpoint_stats': False, 'finish_type': 0, 'num_output_columns': 7, 'collate_examples': False, 'dominate_method': 'bootstrap', 'num_trees': 12, 'split_name': 'less_or_equal', 'pruning_type': 0, 'leaf_model_type': 0, 'bagging_fraction': 1.0, 'bagged_num_features': 4, 'param_file': None, 'bagged_features': None, 'split_pruning_name': 'none', 'max_fertile_nodes': 0, 'model_name': 'all_dense', 'split_after_samples': 250, 'num_features': 4, 'stats_model_type': 0, 'max_nodes': 10, 'initialize_average_splits': False}\n"
     ]
    }
   ],
   "source": [
    "# Build the Random Forest\n",
    "\n",
    "forest_graph = tensor_forest.RandomForestGraphs(hparams)"
   ]
  },
  {
   "cell_type": "code",
   "execution_count": 10,
   "metadata": {},
   "outputs": [],
   "source": [
    "# Get training graph and loss\n",
    "\n",
    "train_op = forest_graph.training_graph(X, Y)\n",
    "\n",
    "loss_op = forest_graph.training_loss(X, Y)"
   ]
  },
  {
   "cell_type": "code",
   "execution_count": 11,
   "metadata": {},
   "outputs": [],
   "source": [
    "# Measure the accuracy\n",
    "\n",
    "infer_op, _, _ = forest_graph.inference_graph(X)\n",
    "\n",
    "correct_prediction = tf.equal(tf.argmax(infer_op, 1), tf.cast(Y, tf.int64))\n",
    "\n",
    "accuracy_op = tf.reduce_mean(tf.cast(correct_prediction, tf.float32))"
   ]
  },
  {
   "cell_type": "code",
   "execution_count": 12,
   "metadata": {},
   "outputs": [],
   "source": [
    "# Initialize the variables (i.e. assign their default value) and forest resources\n",
    "\n",
    "init_vars = tf.group(tf.global_variables_initializer(),\n",
    "                     resources.initialize_resources(resources.shared_resources()))\n",
    "    "
   ]
  },
  {
   "cell_type": "code",
   "execution_count": 13,
   "metadata": {},
   "outputs": [],
   "source": [
    "\n",
    "# Start TensorFlow session\n",
    "\n",
    "sess = tf.Session()\n"
   ]
  },
  {
   "cell_type": "code",
   "execution_count": 14,
   "metadata": {},
   "outputs": [],
   "source": [
    "# Run the initializer\n",
    "\n",
    "sess.run(init_vars)"
   ]
  },
  {
   "cell_type": "code",
   "execution_count": 15,
   "metadata": {},
   "outputs": [
    {
     "name": "stdout",
     "output_type": "stream",
     "text": [
      "Step 1, Loss: -1.000000, Acc: 0.984471\n",
      "Step 50, Loss: -11.000000, Acc: 0.995132\n",
      "Step 100, Loss: -11.000000, Acc: 0.995132\n",
      "Step 150, Loss: -11.000000, Acc: 0.995132\n",
      "Step 200, Loss: -11.000000, Acc: 0.995132\n",
      "Step 250, Loss: -11.000000, Acc: 0.995132\n",
      "Step 300, Loss: -11.000000, Acc: 0.995132\n",
      "Step 350, Loss: -11.000000, Acc: 0.995132\n",
      "Step 400, Loss: -11.000000, Acc: 0.995132\n",
      "Step 450, Loss: -11.000000, Acc: 0.995132\n",
      "Step 500, Loss: -11.000000, Acc: 0.995132\n"
     ]
    }
   ],
   "source": [
    "# Training\n",
    "\n",
    "for i in range(1, num_steps + 1):\n",
    "\n",
    "    _, l = sess.run([train_op, loss_op], feed_dict={X: X_train, Y: y_train})\n",
    "\n",
    "    if i % 50 == 0 or i == 1:\n",
    "\n",
    "        acc = sess.run(accuracy_op, feed_dict={X: X_train, Y: y_train})\n",
    "\n",
    "        print('Step %i, Loss: %f, Acc: %f' % (i, l, acc))"
   ]
  },
  {
   "cell_type": "code",
   "execution_count": 16,
   "metadata": {},
   "outputs": [
    {
     "name": "stdout",
     "output_type": "stream",
     "text": [
      "Test Accuracy: 0.9959207\n"
     ]
    }
   ],
   "source": [
    "# Test Model\n",
    "\n",
    "print(\"Test Accuracy:\", sess.run(accuracy_op, feed_dict={X: X_test, Y: y_test}))"
   ]
  },
  {
   "cell_type": "code",
   "execution_count": null,
   "metadata": {},
   "outputs": [],
   "source": []
  }
 ],
 "metadata": {
  "kernelspec": {
   "display_name": "Python 3",
   "language": "python",
   "name": "python3"
  },
  "language_info": {
   "codemirror_mode": {
    "name": "ipython",
    "version": 3
   },
   "file_extension": ".py",
   "mimetype": "text/x-python",
   "name": "python",
   "nbconvert_exporter": "python",
   "pygments_lexer": "ipython3",
   "version": "3.5.2"
  }
 },
 "nbformat": 4,
 "nbformat_minor": 2
}
